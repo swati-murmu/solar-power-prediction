{
 "cells": [
  {
   "cell_type": "code",
   "execution_count": 39,
   "metadata": {},
   "outputs": [],
   "source": [
    "import pandas as pd\n",
    "import scipy.stats as stats"
   ]
  },
  {
   "cell_type": "code",
   "execution_count": 2,
   "metadata": {},
   "outputs": [],
   "source": [
    "data = pd.read_csv('C:\\\\Users\\\\r.pan\\\\Desktop\\\\CSUF\\\\577\\\\data\\\\updated_outputWzipcode.csv')"
   ]
  },
  {
   "cell_type": "code",
   "execution_count": 3,
   "metadata": {},
   "outputs": [
    {
     "data": {
      "text/html": [
       "<div>\n",
       "<style scoped>\n",
       "    .dataframe tbody tr th:only-of-type {\n",
       "        vertical-align: middle;\n",
       "    }\n",
       "\n",
       "    .dataframe tbody tr th {\n",
       "        vertical-align: top;\n",
       "    }\n",
       "\n",
       "    .dataframe thead th {\n",
       "        text-align: right;\n",
       "    }\n",
       "</style>\n",
       "<table border=\"1\" class=\"dataframe\">\n",
       "  <thead>\n",
       "    <tr style=\"text-align: right;\">\n",
       "      <th></th>\n",
       "      <th>Unnamed: 0</th>\n",
       "      <th>Postal Code</th>\n",
       "      <th>Latitude</th>\n",
       "      <th>Longitude</th>\n",
       "      <th>Year</th>\n",
       "      <th>Month</th>\n",
       "      <th>Day</th>\n",
       "      <th>Hour</th>\n",
       "      <th>Minute</th>\n",
       "      <th>DHI</th>\n",
       "      <th>...</th>\n",
       "      <th>Cloud Type</th>\n",
       "      <th>Dew Point</th>\n",
       "      <th>Fill Flag</th>\n",
       "      <th>GHI</th>\n",
       "      <th>Relative Humidity</th>\n",
       "      <th>Solar Zenith Angle</th>\n",
       "      <th>Surface Albedo</th>\n",
       "      <th>Pressure</th>\n",
       "      <th>Precipitable Water</th>\n",
       "      <th>Wind Direction</th>\n",
       "    </tr>\n",
       "  </thead>\n",
       "  <tbody>\n",
       "    <tr>\n",
       "      <th>0</th>\n",
       "      <td>0</td>\n",
       "      <td>92624.0</td>\n",
       "      <td>33.45</td>\n",
       "      <td>-117.66</td>\n",
       "      <td>2010</td>\n",
       "      <td>1</td>\n",
       "      <td>1</td>\n",
       "      <td>0</td>\n",
       "      <td>30</td>\n",
       "      <td>0</td>\n",
       "      <td>...</td>\n",
       "      <td>7</td>\n",
       "      <td>2.0</td>\n",
       "      <td>0</td>\n",
       "      <td>0</td>\n",
       "      <td>61.77</td>\n",
       "      <td>166.91</td>\n",
       "      <td>0.091</td>\n",
       "      <td>1020</td>\n",
       "      <td>1.640</td>\n",
       "      <td>71.3</td>\n",
       "    </tr>\n",
       "    <tr>\n",
       "      <th>1</th>\n",
       "      <td>1</td>\n",
       "      <td>92624.0</td>\n",
       "      <td>33.45</td>\n",
       "      <td>-117.66</td>\n",
       "      <td>2010</td>\n",
       "      <td>1</td>\n",
       "      <td>1</td>\n",
       "      <td>1</td>\n",
       "      <td>30</td>\n",
       "      <td>0</td>\n",
       "      <td>...</td>\n",
       "      <td>4</td>\n",
       "      <td>1.0</td>\n",
       "      <td>0</td>\n",
       "      <td>0</td>\n",
       "      <td>58.43</td>\n",
       "      <td>156.51</td>\n",
       "      <td>0.091</td>\n",
       "      <td>1020</td>\n",
       "      <td>1.659</td>\n",
       "      <td>67.5</td>\n",
       "    </tr>\n",
       "    <tr>\n",
       "      <th>2</th>\n",
       "      <td>2</td>\n",
       "      <td>92624.0</td>\n",
       "      <td>33.45</td>\n",
       "      <td>-117.66</td>\n",
       "      <td>2010</td>\n",
       "      <td>1</td>\n",
       "      <td>1</td>\n",
       "      <td>2</td>\n",
       "      <td>30</td>\n",
       "      <td>0</td>\n",
       "      <td>...</td>\n",
       "      <td>1</td>\n",
       "      <td>0.0</td>\n",
       "      <td>0</td>\n",
       "      <td>0</td>\n",
       "      <td>55.57</td>\n",
       "      <td>144.34</td>\n",
       "      <td>0.091</td>\n",
       "      <td>1020</td>\n",
       "      <td>1.676</td>\n",
       "      <td>68.4</td>\n",
       "    </tr>\n",
       "    <tr>\n",
       "      <th>3</th>\n",
       "      <td>3</td>\n",
       "      <td>92624.0</td>\n",
       "      <td>33.45</td>\n",
       "      <td>-117.66</td>\n",
       "      <td>2010</td>\n",
       "      <td>1</td>\n",
       "      <td>1</td>\n",
       "      <td>3</td>\n",
       "      <td>30</td>\n",
       "      <td>0</td>\n",
       "      <td>...</td>\n",
       "      <td>0</td>\n",
       "      <td>0.0</td>\n",
       "      <td>0</td>\n",
       "      <td>0</td>\n",
       "      <td>54.06</td>\n",
       "      <td>131.85</td>\n",
       "      <td>0.091</td>\n",
       "      <td>1020</td>\n",
       "      <td>1.706</td>\n",
       "      <td>69.9</td>\n",
       "    </tr>\n",
       "    <tr>\n",
       "      <th>4</th>\n",
       "      <td>4</td>\n",
       "      <td>92624.0</td>\n",
       "      <td>33.45</td>\n",
       "      <td>-117.66</td>\n",
       "      <td>2010</td>\n",
       "      <td>1</td>\n",
       "      <td>1</td>\n",
       "      <td>4</td>\n",
       "      <td>30</td>\n",
       "      <td>0</td>\n",
       "      <td>...</td>\n",
       "      <td>3</td>\n",
       "      <td>0.0</td>\n",
       "      <td>0</td>\n",
       "      <td>0</td>\n",
       "      <td>53.25</td>\n",
       "      <td>119.41</td>\n",
       "      <td>0.091</td>\n",
       "      <td>1020</td>\n",
       "      <td>1.756</td>\n",
       "      <td>71.8</td>\n",
       "    </tr>\n",
       "  </tbody>\n",
       "</table>\n",
       "<p>5 rows × 26 columns</p>\n",
       "</div>"
      ],
      "text/plain": [
       "   Unnamed: 0  Postal Code  Latitude  Longitude  Year  Month  Day  Hour  \\\n",
       "0           0      92624.0     33.45    -117.66  2010      1    1     0   \n",
       "1           1      92624.0     33.45    -117.66  2010      1    1     1   \n",
       "2           2      92624.0     33.45    -117.66  2010      1    1     2   \n",
       "3           3      92624.0     33.45    -117.66  2010      1    1     3   \n",
       "4           4      92624.0     33.45    -117.66  2010      1    1     4   \n",
       "\n",
       "   Minute  DHI  ...  Cloud Type  Dew Point  Fill Flag  GHI  Relative Humidity  \\\n",
       "0      30    0  ...           7        2.0          0    0              61.77   \n",
       "1      30    0  ...           4        1.0          0    0              58.43   \n",
       "2      30    0  ...           1        0.0          0    0              55.57   \n",
       "3      30    0  ...           0        0.0          0    0              54.06   \n",
       "4      30    0  ...           3        0.0          0    0              53.25   \n",
       "\n",
       "   Solar Zenith Angle  Surface Albedo  Pressure  Precipitable Water  \\\n",
       "0              166.91           0.091      1020               1.640   \n",
       "1              156.51           0.091      1020               1.659   \n",
       "2              144.34           0.091      1020               1.676   \n",
       "3              131.85           0.091      1020               1.706   \n",
       "4              119.41           0.091      1020               1.756   \n",
       "\n",
       "   Wind Direction  \n",
       "0            71.3  \n",
       "1            67.5  \n",
       "2            68.4  \n",
       "3            69.9  \n",
       "4            71.8  \n",
       "\n",
       "[5 rows x 26 columns]"
      ]
     },
     "execution_count": 3,
     "metadata": {},
     "output_type": "execute_result"
    }
   ],
   "source": [
    "data.head()"
   ]
  },
  {
   "cell_type": "code",
   "execution_count": 7,
   "metadata": {},
   "outputs": [
    {
     "data": {
      "text/plain": [
       "69"
      ]
     },
     "execution_count": 7,
     "metadata": {},
     "output_type": "execute_result"
    }
   ],
   "source": [
    "data['Postal Code'].nunique()"
   ]
  },
  {
   "cell_type": "code",
   "execution_count": 11,
   "metadata": {},
   "outputs": [],
   "source": [
    "ziplist = data['Postal Code'].unique().tolist()"
   ]
  },
  {
   "cell_type": "code",
   "execution_count": 13,
   "metadata": {},
   "outputs": [],
   "source": [
    "i = 1\n",
    "for zipcode in ziplist:\n",
    "    locals()['zip_{0}'.format(i)] = data[data['Postal Code']==zipcode]\n",
    "    i = i + 1\n",
    "        "
   ]
  },
  {
   "cell_type": "code",
   "execution_count": 36,
   "metadata": {
    "scrolled": true
   },
   "outputs": [],
   "source": [
    "alllist = data.groupby(['Postal Code','Year','Hour'])['GHI'].mean().to_frame()"
   ]
  },
  {
   "cell_type": "code",
   "execution_count": 37,
   "metadata": {},
   "outputs": [],
   "source": [
    "alllist = alllist[alllist['GHI']!=0]"
   ]
  },
  {
   "cell_type": "code",
   "execution_count": 38,
   "metadata": {},
   "outputs": [
    {
     "data": {
      "text/html": [
       "<div>\n",
       "<style scoped>\n",
       "    .dataframe tbody tr th:only-of-type {\n",
       "        vertical-align: middle;\n",
       "    }\n",
       "\n",
       "    .dataframe tbody tr th {\n",
       "        vertical-align: top;\n",
       "    }\n",
       "\n",
       "    .dataframe thead th {\n",
       "        text-align: right;\n",
       "    }\n",
       "</style>\n",
       "<table border=\"1\" class=\"dataframe\">\n",
       "  <thead>\n",
       "    <tr style=\"text-align: right;\">\n",
       "      <th></th>\n",
       "      <th></th>\n",
       "      <th></th>\n",
       "      <th>GHI</th>\n",
       "    </tr>\n",
       "    <tr>\n",
       "      <th>Postal Code</th>\n",
       "      <th>Year</th>\n",
       "      <th>Hour</th>\n",
       "      <th></th>\n",
       "    </tr>\n",
       "  </thead>\n",
       "  <tbody>\n",
       "    <tr>\n",
       "      <th rowspan=\"5\" valign=\"top\">90620.0</th>\n",
       "      <th rowspan=\"5\" valign=\"top\">2010</th>\n",
       "      <th>5</th>\n",
       "      <td>18.219178</td>\n",
       "    </tr>\n",
       "    <tr>\n",
       "      <th>6</th>\n",
       "      <td>92.013699</td>\n",
       "    </tr>\n",
       "    <tr>\n",
       "      <th>7</th>\n",
       "      <td>198.575342</td>\n",
       "    </tr>\n",
       "    <tr>\n",
       "      <th>8</th>\n",
       "      <td>368.947945</td>\n",
       "    </tr>\n",
       "    <tr>\n",
       "      <th>9</th>\n",
       "      <td>532.093151</td>\n",
       "    </tr>\n",
       "    <tr>\n",
       "      <th>...</th>\n",
       "      <th>...</th>\n",
       "      <th>...</th>\n",
       "      <td>...</td>\n",
       "    </tr>\n",
       "    <tr>\n",
       "      <th rowspan=\"5\" valign=\"top\">92887.0</th>\n",
       "      <th rowspan=\"5\" valign=\"top\">2019</th>\n",
       "      <th>14</th>\n",
       "      <td>532.887671</td>\n",
       "    </tr>\n",
       "    <tr>\n",
       "      <th>15</th>\n",
       "      <td>384.076712</td>\n",
       "    </tr>\n",
       "    <tr>\n",
       "      <th>16</th>\n",
       "      <td>216.646575</td>\n",
       "    </tr>\n",
       "    <tr>\n",
       "      <th>17</th>\n",
       "      <td>82.945205</td>\n",
       "    </tr>\n",
       "    <tr>\n",
       "      <th>18</th>\n",
       "      <td>12.128767</td>\n",
       "    </tr>\n",
       "  </tbody>\n",
       "</table>\n",
       "<p>9660 rows × 1 columns</p>\n",
       "</div>"
      ],
      "text/plain": [
       "                              GHI\n",
       "Postal Code Year Hour            \n",
       "90620.0     2010 5      18.219178\n",
       "                 6      92.013699\n",
       "                 7     198.575342\n",
       "                 8     368.947945\n",
       "                 9     532.093151\n",
       "...                           ...\n",
       "92887.0     2019 14    532.887671\n",
       "                 15    384.076712\n",
       "                 16    216.646575\n",
       "                 17     82.945205\n",
       "                 18     12.128767\n",
       "\n",
       "[9660 rows x 1 columns]"
      ]
     },
     "execution_count": 38,
     "metadata": {},
     "output_type": "execute_result"
    }
   ],
   "source": [
    "alllist"
   ]
  },
  {
   "cell_type": "code",
   "execution_count": 29,
   "metadata": {},
   "outputs": [],
   "source": [
    "b = zip_1.groupby(['Year','Hour'])['GHI'].mean()"
   ]
  },
  {
   "cell_type": "code",
   "execution_count": 43,
   "metadata": {},
   "outputs": [],
   "source": [
    "zip_1_1 =zip_1[zip_1['GHI']!=0]"
   ]
  },
  {
   "cell_type": "code",
   "execution_count": 53,
   "metadata": {},
   "outputs": [
    {
     "data": {
      "text/plain": [
       "5       0\n",
       "29      0\n",
       "53      0\n",
       "77      0\n",
       "101     0\n",
       "       ..\n",
       "8645    0\n",
       "8669    0\n",
       "8693    0\n",
       "8717    0\n",
       "8741    0\n",
       "Name: GHI, Length: 365, dtype: int64"
      ]
     },
     "execution_count": 53,
     "metadata": {},
     "output_type": "execute_result"
    }
   ],
   "source": [
    "zip_1[(zip_1['Year'] == 2010 ) & (zip_1['Hour'] == 5)]['GHI']"
   ]
  },
  {
   "cell_type": "code",
   "execution_count": 58,
   "metadata": {},
   "outputs": [
    {
     "data": {
      "text/plain": [
       "F_onewayResult(statistic=1.995890188116623, pvalue=0.035922734306593)"
      ]
     },
     "execution_count": 58,
     "metadata": {},
     "output_type": "execute_result"
    }
   ],
   "source": [
    "stats.f_oneway(zip_1[(zip_1['Year'] == 2010 ) & (zip_1['Hour'] == 12)]['GHI'],\n",
    "               zip_1[(zip_1['Year'] == 2011 ) & (zip_1['Hour'] == 12)]['GHI'],\n",
    "               zip_1[(zip_1['Year'] == 2012 ) & (zip_1['Hour'] == 12)]['GHI'],\n",
    "               zip_1[(zip_1['Year'] == 2013 ) & (zip_1['Hour'] == 12)]['GHI'],\n",
    "               zip_1[(zip_1['Year'] == 2014 ) & (zip_1['Hour'] == 12)]['GHI'],\n",
    "               zip_1[(zip_1['Year'] == 2015 ) & (zip_1['Hour'] == 12)]['GHI'],\n",
    "               zip_1[(zip_1['Year'] == 2016 ) & (zip_1['Hour'] == 12)]['GHI'],\n",
    "               zip_1[(zip_1['Year'] == 2017 ) & (zip_1['Hour'] == 12)]['GHI'],\n",
    "               zip_1[(zip_1['Year'] == 2018 ) & (zip_1['Hour'] == 12)]['GHI'],\n",
    "               zip_1[(zip_1['Year'] == 2019 ) & (zip_1['Hour'] == 12)]['GHI'])"
   ]
  },
  {
   "cell_type": "code",
   "execution_count": 59,
   "metadata": {},
   "outputs": [
    {
     "data": {
      "text/plain": [
       "F_onewayResult(statistic=0.8512343469650742, pvalue=0.5686968502832137)"
      ]
     },
     "execution_count": 59,
     "metadata": {},
     "output_type": "execute_result"
    }
   ],
   "source": [
    "stats.f_oneway(zip_1[(zip_1['Year'] == 2010 ) & (zip_1['Hour'] == 15)]['GHI'],\n",
    "               zip_1[(zip_1['Year'] == 2011 ) & (zip_1['Hour'] == 15)]['GHI'],\n",
    "               zip_1[(zip_1['Year'] == 2012 ) & (zip_1['Hour'] == 15)]['GHI'],\n",
    "               zip_1[(zip_1['Year'] == 2013 ) & (zip_1['Hour'] == 15)]['GHI'],\n",
    "               zip_1[(zip_1['Year'] == 2014 ) & (zip_1['Hour'] == 15)]['GHI'],\n",
    "               zip_1[(zip_1['Year'] == 2015 ) & (zip_1['Hour'] == 15)]['GHI'],\n",
    "               zip_1[(zip_1['Year'] == 2016 ) & (zip_1['Hour'] == 15)]['GHI'],\n",
    "               zip_1[(zip_1['Year'] == 2017 ) & (zip_1['Hour'] == 15)]['GHI'],\n",
    "               zip_1[(zip_1['Year'] == 2018 ) & (zip_1['Hour'] == 15)]['GHI'],\n",
    "               zip_1[(zip_1['Year'] == 2019 ) & (zip_1['Hour'] == 15)]['GHI'])"
   ]
  },
  {
   "cell_type": "code",
   "execution_count": 57,
   "metadata": {},
   "outputs": [
    {
     "data": {
      "text/plain": [
       "F_onewayResult(statistic=2.5878408466132496, pvalue=0.005580090336935954)"
      ]
     },
     "execution_count": 57,
     "metadata": {},
     "output_type": "execute_result"
    }
   ],
   "source": [
    "stats.f_oneway(zip_1[(zip_1['Year'] == 2010 )]['GHI'],\n",
    "               zip_1[(zip_1['Year'] == 2011 )]['GHI'],\n",
    "               zip_1[(zip_1['Year'] == 2012 )]['GHI'],\n",
    "               zip_1[(zip_1['Year'] == 2013 )]['GHI'],\n",
    "               zip_1[(zip_1['Year'] == 2014 )]['GHI'],\n",
    "               zip_1[(zip_1['Year'] == 2015 )]['GHI'],\n",
    "               zip_1[(zip_1['Year'] == 2016 )]['GHI'],\n",
    "               zip_1[(zip_1['Year'] == 2017 )]['GHI'],\n",
    "               zip_1[(zip_1['Year'] == 2018 )]['GHI'],\n",
    "               zip_1[(zip_1['Year'] == 2019 )]['GHI'])"
   ]
  },
  {
   "cell_type": "code",
   "execution_count": 40,
   "metadata": {},
   "outputs": [],
   "source": [
    "alllist.to_csv('all-yearly-mean.csv')"
   ]
  },
  {
   "cell_type": "code",
   "execution_count": null,
   "metadata": {},
   "outputs": [],
   "source": []
  }
 ],
 "metadata": {
  "kernelspec": {
   "display_name": "Python 3",
   "language": "python",
   "name": "python3"
  },
  "language_info": {
   "codemirror_mode": {
    "name": "ipython",
    "version": 3
   },
   "file_extension": ".py",
   "mimetype": "text/x-python",
   "name": "python",
   "nbconvert_exporter": "python",
   "pygments_lexer": "ipython3",
   "version": "3.7.6"
  }
 },
 "nbformat": 4,
 "nbformat_minor": 4
}
