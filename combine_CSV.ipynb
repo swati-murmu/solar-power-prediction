{
 "cells": [
  {
   "cell_type": "code",
   "execution_count": 1,
   "id": "authentic-attachment",
   "metadata": {},
   "outputs": [
    {
     "ename": "PermissionError",
     "evalue": "[WinError 32] The process cannot access the file because it is being used by another process: '_output.csv'",
     "output_type": "error",
     "traceback": [
      "\u001b[1;31m---------------------------------------------------------------------------\u001b[0m",
      "\u001b[1;31mPermissionError\u001b[0m                           Traceback (most recent call last)",
      "\u001b[1;32m<ipython-input-1-615d990989f7>\u001b[0m in \u001b[0;36m<module>\u001b[1;34m\u001b[0m\n\u001b[0;32m     11\u001b[0m \u001b[1;32mif\u001b[0m \u001b[0mos\u001b[0m\u001b[1;33m.\u001b[0m\u001b[0mpath\u001b[0m\u001b[1;33m.\u001b[0m\u001b[0mexists\u001b[0m\u001b[1;33m(\u001b[0m\u001b[0moutput_filename\u001b[0m\u001b[1;33m)\u001b[0m\u001b[1;33m:\u001b[0m\u001b[1;33m\u001b[0m\u001b[1;33m\u001b[0m\u001b[0m\n\u001b[0;32m     12\u001b[0m \u001b[1;33m\u001b[0m\u001b[0m\n\u001b[1;32m---> 13\u001b[1;33m   \u001b[0mos\u001b[0m\u001b[1;33m.\u001b[0m\u001b[0mremove\u001b[0m\u001b[1;33m(\u001b[0m\u001b[0moutput_filename\u001b[0m\u001b[1;33m)\u001b[0m\u001b[1;33m\u001b[0m\u001b[1;33m\u001b[0m\u001b[0m\n\u001b[0m\u001b[0;32m     14\u001b[0m \u001b[1;33m\u001b[0m\u001b[0m\n\u001b[0;32m     15\u001b[0m \u001b[1;31m#define a variable to hold the header row for the output CSV file\u001b[0m\u001b[1;33m\u001b[0m\u001b[1;33m\u001b[0m\u001b[1;33m\u001b[0m\u001b[0m\n",
      "\u001b[1;31mPermissionError\u001b[0m: [WinError 32] The process cannot access the file because it is being used by another process: '_output.csv'"
     ]
    }
   ],
   "source": [
    "import glob\n",
    "import os\n",
    "\n",
    "#define the name of the output CSV file\n",
    "\n",
    "output_filename = '_output.csv'\n",
    " \n",
    "os.chdir(\"C:\\\\Users\\\\Azmery\\\\Documents\\\\CSUF\\\\ISDS 577\\\\Group Project\\\\New Dataset\")\n",
    "#delete the output CSV file if it already exists\n",
    "\n",
    "if os.path.exists(output_filename):\n",
    "\n",
    "  os.remove(output_filename) \n",
    "\n",
    "#define a variable to hold the header row for the output CSV file\n",
    "\n",
    "header_row = None\n",
    "\n",
    "#get the names of all input CSV files in the current folder\n",
    "\n",
    "filenames = [i for i in glob.glob('*.csv')]\n",
    "\n",
    "#open the output CSV file for writing\n",
    "\n",
    "f_output = open(output_filename, 'w')\n",
    "\n",
    "\n",
    "#for each input CSV file\n",
    "\n",
    "for filename in filenames:\n",
    "\n",
    "  f = open(filename, 'r') #open the current input CSV file for reading\n",
    "\n",
    "  rows = f.readlines() #get all rows in the current input CSV file\n",
    "\n",
    "  f.close() #close the current input CSV file\n",
    "\n",
    "  #get the postal code and latitude and longitude coordinates\n",
    "\n",
    "  cell_values = rows[1].split(sep=',')\n",
    "\n",
    "  postal_code, latitude, longitude = cell_values[1], cell_values[5], cell_values[6]\n",
    "\n",
    "  #if we have not yet defined the header row for the output CSV file\n",
    "\n",
    "  if header_row == None:\n",
    "\n",
    "    #define the header row for the output CSV file\n",
    "\n",
    "    header_row = 'Postal Code,Latitude,Longitude,' + rows[2].rstrip(',\\n')\n",
    "\n",
    "    #write the header row to the output CSV file (with a trailing new line character)\n",
    "\n",
    "    f_output.write(header_row + '\\n')\n",
    "\n",
    "  #process each remaining row in the input CSV file\n",
    "\n",
    "  for i in range(3, len(rows)):\n",
    "\n",
    "    row = rows[i].rstrip(',\\n') #remove all trailing commas and new line characters from this row\n",
    "\n",
    "    #build and write the current row to the output CSV file\n",
    "\n",
    "    row = '{},{},{},{}\\n'.format(postal_code, latitude, longitude, row)\n",
    "\n",
    "    f_output.write(row)\n",
    "\n",
    "#close the output CSV file\n",
    "\n",
    "f_output.close() \n",
    "\n",
    "#update status\n",
    "\n",
    "print('Finished! Yay!')"
   ]
  },
  {
   "cell_type": "code",
   "execution_count": null,
   "id": "therapeutic-judgment",
   "metadata": {},
   "outputs": [],
   "source": []
  }
 ],
 "metadata": {
  "kernelspec": {
   "display_name": "Python 3",
   "language": "python",
   "name": "python3"
  },
  "language_info": {
   "codemirror_mode": {
    "name": "ipython",
    "version": 3
   },
   "file_extension": ".py",
   "mimetype": "text/x-python",
   "name": "python",
   "nbconvert_exporter": "python",
   "pygments_lexer": "ipython3",
   "version": "3.8.5"
  }
 },
 "nbformat": 4,
 "nbformat_minor": 5
}
